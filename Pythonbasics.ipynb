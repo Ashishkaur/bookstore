{
  "nbformat": 4,
  "nbformat_minor": 0,
  "metadata": {
    "colab": {
      "provenance": [],
      "authorship_tag": "ABX9TyPcu3WiU+JwuoHKzWXEnL3x",
      "include_colab_link": true
    },
    "kernelspec": {
      "name": "python3",
      "display_name": "Python 3"
    },
    "language_info": {
      "name": "python"
    }
  },
  "cells": [
    {
      "cell_type": "markdown",
      "metadata": {
        "id": "view-in-github",
        "colab_type": "text"
      },
      "source": [
        "<a href=\"https://colab.research.google.com/github/Ashishkaur/bookstore/blob/master/Pythonbasics.ipynb\" target=\"_parent\"><img src=\"https://colab.research.google.com/assets/colab-badge.svg\" alt=\"Open In Colab\"/></a>"
      ]
    },
    {
      "cell_type": "code",
      "execution_count": null,
      "metadata": {
        "id": "XZSsfooTk9sR"
      },
      "outputs": [],
      "source": []
    },
    {
      "cell_type": "markdown",
      "source": [
        "1. What is python , and why it is popular?\n",
        "\n",
        "Python is a high-level, interpreted programming language known for its simplicity, readability, and versatility. It was created by Guido van Rossum and first released in 1991. Python emphasizes code readability and allows developers to express concepts in fewer lines of code compared to other programming languages.\n",
        "\n",
        "Reasons for Python's Popularity:\n",
        "Easy to Learn and Read:\n",
        "\n",
        "Python’s syntax is clear and similar to everyday English, which makes it beginner-friendly. This simplicity allows developers to focus on problem-solving rather than complex syntax.\n",
        "Versatile and Powerful:\n",
        "\n",
        "Python is used in a wide range of fields, including web development, data science, machine learning, artificial intelligence, automation, scripting, and scientific computing.\n",
        "Large Standard Library:\n",
        "\n",
        "Python comes with a rich standard library that offers built-in modules and functions to perform common tasks (such as file handling, networking, and working with data formats).\n",
        "Cross-Platform Compatibility:\n",
        "\n",
        "Python is available on multiple platforms, including Windows, macOS, and Linux, making it easy to develop cross-platform applications.\n",
        "Active Community:\n",
        "\n",
        "Python has a large and active developer community. This results in a wealth of resources such as tutorials, forums, and third-party libraries, as well as frequent updates to the language.\n",
        "Extensive Libraries and Frameworks:\n",
        "\n",
        "Python has an extensive ecosystem of third-party libraries and frameworks like Django (for web development), TensorFlow and PyTorch (for machine learning), and Pandas and NumPy (for data analysis).\n",
        "\n",
        "2. What is interpreter in python?\n",
        "\n",
        "In Python, an interpreter is a program that reads and executes Python code line by line. It translates the high-level Python code into machine code (or bytecode) that the computer can understand and execute. Unlike compiled languages, where the code is fully translated into machine code before execution (like C or Java), an interpreter processes the code during runtime, which makes it more flexible and easier to debug.\n",
        "\n",
        "3. What are pre - defined keywordsin python?\n",
        "\n",
        "In Python, predefined keywords (also known as reserved words) are words that have a special meaning and are reserved by the language for specific functionality. These keywords cannot be used as identifiers (such as variable names, function names, or class names) because they are part of the syntax of the language.\n",
        "\n",
        "4. Can Keywords be used as variable names ? No\n",
        "\n",
        "5. What is mutability in Python?\n",
        "\n",
        "Mutability in Python refers to the ability of an object to be changed after it has been created. Objects in Python can either be mutable or immutable, depending on whether or not their state (data or contents) can be modified.\n",
        "\n",
        "Mutable Objects:\n",
        "Mutable objects can be changed after they are created. This means you can modify the contents or state of the object without creating a new object.\n",
        "Common examples of mutable objects in Python are:\n",
        "Lists (list)\n",
        "Dictionaries (dict)\n",
        "Sets (set )\n",
        "\n",
        "6. Why are lists mutable , but tuples are immutable ?\n",
        "\n",
        "The difference in mutability between lists and tuples in Python is primarily due to their intended use cases, design philosophy, and performance considerations. Here's a deeper explanation:\n",
        "\n",
        "1. Design Intentions and Use Cases:\n",
        "Lists are designed to be dynamic collections of items, where you might frequently need to add, remove, or modify elements. Lists are mutable so that they can support these operations efficiently.\n",
        "Tuples, on the other hand, are designed to be immutable collections. They are intended to represent fixed or unchangeable groups of items, like a record or a coordinate, where the data should not be modified after creation. Tuples are often used for data that should remain constant, such as keys in dictionaries or fixed configuration values.\n",
        "2. Performance Considerations:\n",
        "Mutable lists allow modification in-place, meaning operations like appending or removing items do not require creating new objects. This makes lists more flexible but slightly more costly in terms of performance for operations like copying or passing to functions.\n",
        "Immutable tuples are more memory-efficient because they can be optimized by the Python interpreter. Since tuples cannot be changed, they can be stored in a more compact and efficient manner, which can result in better performance when handling large amounts of data or when using tuples as dictionary keys.\n",
        "3. Safety and Integrity:\n",
        "Lists, being mutable, allow changes to the contents after creation, which can be useful when the contents need to be updated dynamically.\n",
        "Tuples, being immutable, provide safety and guarantee that the data inside cannot be altered accidentally. This is useful in scenarios where the integrity of data must be preserved, such as in configurations, coordinates, or function return values.\n",
        "4. Hashing and Use as Dictionary Keys:\n",
        "Tuples are hashable (if they contain only hashable elements), which means they can be used as keys in dictionaries. This is because their immutability ensures that their content cannot change once they are used as keys. The hash value remains constant.\n",
        "Lists, being mutable, are not hashable and therefore cannot be used as dictionary keys. The reason is that if the list's contents could change, its hash value would also change, potentially breaking dictionary operations.\n",
        "5. Memory Optimization:\n",
        "Immutable tuples allow for memory optimization techniques, such as interning (reusing the same object instance for identical tuples), which helps save memory when multiple instances of the same tuple are used.\n",
        "Mutable lists do not benefit from such optimizations, as each list object can change, so interning cannot be applied.\n",
        "6. Immutability as a Design Choice:\n",
        "The immutability of tuples enforces a functional programming style. In functional programming, data is often treated as immutable to avoid side effects (modifying data outside of the current function or context), leading to more predictable and safer code.\n",
        "Lists are more aligned with the imperative programming style, where data is often updated in place.\n",
        "\n",
        "7. What is the difference between “==” and “is” operators in Python?\n",
        "\n",
        "In Python, the == and is operators are used to compare objects, but they do so in different ways:\n",
        "1. == (Equality Operator):\n",
        "The == operator checks whether the values of two objects are equal. In other words, it compares the contents of the objects.\n",
        "It does not check if the two objects are the same object in memory, only if their values are the same.\n",
        "\n",
        "2. is (Identity Operator):\n",
        "The is operator checks whether two variables point to the same object in memory. It checks the identity of the objects, i.e., whether both variables refer to the exact same object (in memory).\n",
        "It does not compare the contents of the objects, only their identity.\n",
        "\n",
        "8. What are logical operators in Python?\n",
        "\n",
        "In Python, logical operators are used to perform logical operations on boolean (truth) values. These operators are typically used to combine multiple conditions or to evaluate expressions that result in boolean values (True or False).\n",
        "\n",
        "Python has three main logical operators:\n",
        "\n",
        "1. and (Logical AND):\n",
        "The and operator returns True if both conditions are True. If either or both conditions are False, the result is False.\n",
        "It is used when you want both conditions to be true for the overall expression to evaluate to true.\n",
        "\n",
        "2. or (Logical OR):\n",
        "The or operator returns True if at least one of the conditions is True. If both conditions are False, the result is False.\n",
        "It is used when you want at least one condition to be true for the overall expression to evaluate to true.\n",
        "\n",
        "3. not (Logical NOT):\n",
        "The not operator is used to invert the boolean value of a condition. If the condition is True, not will make it False, and if the condition is False, not will make it True.\n",
        "It is used to reverse the truth value of a condition.\n",
        "\n",
        "9. What is type casting in Python?\n",
        "\n",
        "Type casting in Python refers to the conversion of one data type into another. This is useful when you need to manipulate or perform operations on data types that are not compatible with each other. In Python, you can explicitly cast one type to another using functions or implicitly cast when Python automatically converts between types during operations.\n",
        "\n",
        "10. What is the difference between implicit and explicit type casting?\n",
        "\n",
        "Types of Type Casting in Python:\n",
        "Implicit Type Casting (Automatic Casting):\n",
        "\n",
        "Python automatically converts one data type to another when required, without the need for the programmer to intervene. This is called implicit type casting or automatic type conversion.\n",
        "It usually happens when a smaller data type is assigned to a larger data type, for example, when an integer is added to a float. Python will automatically promote the integer to a float to perform the operation.\n",
        "\n",
        "Explicit Type Casting (Manual Casting):\n",
        "\n",
        "In explicit type casting, the programmer manually converts one data type to another using casting functions. These functions allow you to specify how to convert a variable from one type to another.\n",
        "Python provides several built-in functions for type casting, such as int(), float(), str(), and others.\n",
        "\n",
        "11. What is the purpose of conditional statements in Python?\n",
        "\n",
        "Conditional statements in Python are used to perform decision-making in programs. They allow you to control the flow of execution based on certain conditions, so that different blocks of code can be executed depending on whether a condition evaluates to True or False. This helps in making decisions and executing code selectively.\n",
        "\n",
        "The primary purpose of conditional statements is to enable the program to make decisions and execute specific actions based on dynamic conditions, such as user input, comparisons, or the state of variables.\n",
        "\n",
        "Common Conditional Statements in Python:\n",
        "if statement:\n",
        "\n",
        "The if statement is used to test a condition. If the condition is True, the block of code inside the if statement is executed.\n",
        "\n",
        "The else statement is used after an if statement to execute a block of code if the condition is False.\n",
        "\n",
        "elif statement:\n",
        "\n",
        "The elif (short for \"else if\") statement allows you to check multiple conditions. If the if condition is False, Python will check the elif condition. If the elif condition is True, the associated block of code is executed.\n",
        "You can have multiple elif blocks to check several conditions.\n",
        "\n",
        "Nested if statements:\n",
        "\n",
        "You can place an if statement inside another if statement to check more complex conditions.\n",
        "\n",
        "12. How does the elif statement work?\n",
        "\n",
        "The elif statement is useful when you have more than two possibilities (i.e., one if and one else aren't enough). It helps avoid writing multiple if statements and keeps your code more readable and efficient.\n",
        "\n",
        "How the elif statement works:\n",
        "The if statement checks the first condition.\n",
        "If the first condition is False, Python moves on to the elif statements one by one, checking each condition in sequence.\n",
        "If an elif condition is True, the code block associated with that elif is executed.\n",
        "If none of the if or elif conditions are True, the else block is executed, if present.\n",
        "\n",
        "13. What is the difference between for and while loops?\n",
        "\n",
        "In Python, both for and while loops are used to repeatedly execute a block of code, but they differ in how they control the flow of execution and the types of conditions they handle.\n",
        "\n",
        "1. for loop:\n",
        "The for loop is used to iterate over a sequence (such as a list, tuple, string, or range) or other iterable objects.\n",
        "It iterates through the items in the sequence one by one and executes a block of code for each item.\n",
        "The loop runs a fixed number of times based on the length or size of the sequence.\n",
        "The for loop is often used when you know the number of iterations in advance or when iterating over a collection of elements.\n",
        "\n",
        "2. while loop:\n",
        "The while loop repeatedly executes a block of code as long as a given condition is True.\n",
        "It is typically used when you don't know the number of iterations in advance, and the loop should continue as long as a condition holds.\n",
        "The loop will keep running until the condition becomes False. If the condition is initially False, the code inside the loop will never execute.\n",
        "\n",
        "14. Describe a scenario where a while loop is more suitable than a for loop.\n",
        "\n",
        "A while loop is more suitable than a for loop in situations where the number of iterations is not known in advance and depends on some dynamic condition that is evaluated during each iteration. Specifically, when the loop should continue until a certain condition is met, or when the loop is dependent on user input, sensor readings, or any other continuously changing criteria, the while loop is a better fit.\n",
        "\n",
        "Scenario: User Login Attempt\n",
        "Imagine you're building a simple login system where a user has multiple attempts to enter the correct password. The loop should continue until the user enters the correct password or the number of attempts exceeds a limit (say 3 attempts).\n",
        "\n",
        "In this case, you don't know in advance how many attempts the user will need to make. The loop should keep running as long as the condition (the password being correct) is False and the number of attempts is less than or equal to 3."
      ],
      "metadata": {
        "id": "2oiOSBnplRK1"
      }
    },
    {
      "cell_type": "code",
      "source": [
        "correct_password = \"secret123\"\n",
        "attempts = 0\n",
        "max_attempts = 3\n",
        "\n",
        "# While the number of attempts is less than max_attempts, keep asking for password\n",
        "while attempts < max_attempts:\n",
        "    user_password = input(\"Enter your password: \")\n",
        "\n",
        "    if user_password == correct_password:\n",
        "        print(\"Login successful!\")\n",
        "        break  # Exit the loop if the password is correct\n",
        "    else:\n",
        "        attempts += 1\n",
        "        print(f\"Incorrect password. You have {max_attempts - attempts} attempts left.\")\n",
        "\n",
        "if attempts == max_attempts:\n",
        "    print(\"Too many incorrect attempts. Access denied.\")"
      ],
      "metadata": {
        "colab": {
          "base_uri": "https://localhost:8080/"
        },
        "id": "iP7O3xWTpZpj",
        "outputId": "7959fe8e-158a-4d4b-f865-7b8bc7ce4511"
      },
      "execution_count": null,
      "outputs": [
        {
          "output_type": "stream",
          "name": "stdout",
          "text": [
            "Enter your password: secret123\n",
            "Login successful!\n"
          ]
        }
      ]
    },
    {
      "cell_type": "markdown",
      "source": [
        "**Practical questions **\n",
        "\n",
        "1. Write a Python program to print \"Hello, World!\""
      ],
      "metadata": {
        "id": "aDI5_ljqyvE6"
      }
    },
    {
      "cell_type": "code",
      "source": [
        "print(\"Hello, World!\")"
      ],
      "metadata": {
        "colab": {
          "base_uri": "https://localhost:8080/"
        },
        "id": "zykVgipvzCnm",
        "outputId": "befce805-0350-471e-a521-f3c334fbf417"
      },
      "execution_count": null,
      "outputs": [
        {
          "output_type": "stream",
          "name": "stdout",
          "text": [
            "Hello, World!\n"
          ]
        }
      ]
    },
    {
      "cell_type": "markdown",
      "source": [
        "2. Write a Python program that displays your name and age."
      ],
      "metadata": {
        "id": "BnC3JSt4zKwR"
      }
    },
    {
      "cell_type": "code",
      "source": [
        "name = input(\"Enter your name \")\n",
        "age = int(input(\"Enter your age \"))\n",
        "print(\"Name :\",name)\n",
        "print(\"Age :\",age)"
      ],
      "metadata": {
        "colab": {
          "base_uri": "https://localhost:8080/"
        },
        "id": "D8U7_v8EzQxU",
        "outputId": "418073bc-c7fb-4edc-80e5-0c2a93c6ff46"
      },
      "execution_count": null,
      "outputs": [
        {
          "output_type": "stream",
          "name": "stdout",
          "text": [
            "Enter your name ashi\n",
            "Enter your age 33\n",
            "Name : ashi\n",
            "Age : 33\n"
          ]
        }
      ]
    },
    {
      "cell_type": "markdown",
      "source": [
        "3. Write code to print all the pre-defined keywords in Python using the keyword library."
      ],
      "metadata": {
        "id": "nC7Ym3en0VBZ"
      }
    },
    {
      "cell_type": "code",
      "source": [
        "import keyword\n",
        "\n",
        "# Get and print the list of all Python keywords\n",
        "print(keyword.kwlist)"
      ],
      "metadata": {
        "colab": {
          "base_uri": "https://localhost:8080/"
        },
        "id": "i_IJOWkG12WK",
        "outputId": "35ed08ee-e267-4107-f579-11f982849057"
      },
      "execution_count": null,
      "outputs": [
        {
          "output_type": "stream",
          "name": "stdout",
          "text": [
            "['False', 'None', 'True', 'and', 'as', 'assert', 'async', 'await', 'break', 'class', 'continue', 'def', 'del', 'elif', 'else', 'except', 'finally', 'for', 'from', 'global', 'if', 'import', 'in', 'is', 'lambda', 'nonlocal', 'not', 'or', 'pass', 'raise', 'return', 'try', 'while', 'with', 'yield']\n"
          ]
        }
      ]
    },
    {
      "cell_type": "markdown",
      "source": [
        "4. Write a program that checks if a given word is a Python keyword."
      ],
      "metadata": {
        "id": "mGQTaE0D2IEd"
      }
    },
    {
      "cell_type": "code",
      "source": [
        "import keyword\n",
        "\n",
        "# Input word from the user\n",
        "word = input(\"Enter a word to check if it's a Python keyword: \")\n",
        "\n",
        "# Check if the word is a Python keyword\n",
        "if keyword.iskeyword(word):\n",
        "    print(f\"'{word}' is a Python keyword.\")\n",
        "else:\n",
        "    print(f\"'{word}' is not a Python keyword.\")"
      ],
      "metadata": {
        "id": "KIWSToGa2bXc"
      },
      "execution_count": null,
      "outputs": []
    },
    {
      "cell_type": "markdown",
      "source": [
        "5. Create a list and tuple in Python, and demonstrate how attempting to change an element works differently for each."
      ],
      "metadata": {
        "id": "hhYHpLEQ4OdP"
      }
    },
    {
      "cell_type": "code",
      "source": [
        "# Creating a list\n",
        "my_list = [1, 2, 3, 4, 5]\n",
        "\n",
        "# Creating a tuple\n",
        "my_tuple = (1, 2, 3, 4, 5)\n",
        "\n",
        "# Attempting to change an element in the list\n",
        "print(\"Original list:\", my_list)\n",
        "my_list[0] = 10  # Changing the first element of the list\n",
        "print(\"List after modification:\", my_list)\n",
        "\n",
        "# Attempting to change an element in the tuple\n",
        "print(\"\\nOriginal tuple:\", my_tuple)\n",
        "try:\n",
        "    my_tuple[0] = 10  # Trying to change the first element of the tuple\n",
        "except TypeError as e:\n",
        "    print(\"Error when trying to modify tuple:\", e)\n"
      ],
      "metadata": {
        "id": "8iWlp-lC4vnU"
      },
      "execution_count": null,
      "outputs": []
    },
    {
      "cell_type": "markdown",
      "source": [
        "6. Write a function to demonstrate the behavior of mutable and immutable arguments."
      ],
      "metadata": {
        "id": "Oop8AgX841-a"
      }
    },
    {
      "cell_type": "code",
      "source": [
        "def modify_arguments(immutable_arg, mutable_arg):\n",
        "    print(\"Original immutable argument:\", immutable_arg)\n",
        "    print(\"Original mutable argument:\", mutable_arg)\n",
        "\n",
        "    # Modify the immutable argument (will not change outside the function)\n",
        "    immutable_arg += 1\n",
        "    print(\"Modified immutable argument inside function:\", immutable_arg)\n",
        "\n",
        "    # Modify the mutable argument (will change outside the function)\n",
        "    mutable_arg.append(6)\n",
        "    print(\"Modified mutable argument inside function:\", mutable_arg)\n",
        "\n",
        "# Testing the function with immutable and mutable arguments\n",
        "immutable_value = 5\n",
        "mutable_value = [1, 2, 3]\n",
        "\n",
        "print(\"\\nBefore calling function:\")\n",
        "print(\"Immutable value:\", immutable_value)\n",
        "print(\"Mutable value:\", mutable_value)\n",
        "\n",
        "modify_arguments(immutable_value, mutable_value)\n",
        "\n",
        "print(\"\\nAfter calling function:\")\n",
        "print(\"Immutable value:\", immutable_value)  # Immutable value doesn't change\n",
        "print(\"Mutable value:\", mutable_value)      # Mutable value is modified\n"
      ],
      "metadata": {
        "id": "Q1mYC19D5FWC"
      },
      "execution_count": null,
      "outputs": []
    },
    {
      "cell_type": "markdown",
      "source": [
        "7. Write a function to demonstrate the behavior of mutable and immutable arguments. same as 6th\n",
        "\n",
        "8. Write a program to demonstrate the use of logical operators.\n"
      ],
      "metadata": {
        "id": "NfF6MiyV5GVr"
      }
    },
    {
      "cell_type": "code",
      "source": [
        "def logical_operators_demo(a, b):\n",
        "    # Demonstrating the 'and' operator (True if both conditions are true)\n",
        "    if a > 5 and b < 10:\n",
        "        print(f\"Both conditions are True: a ({a}) > 5 and b ({b}) < 10\")\n",
        "    else:\n",
        "        print(f\"Either a ({a}) <= 5 or b ({b}) >= 10, or both are false\")\n",
        "\n",
        "    # Demonstrating the 'or' operator (True if at least one condition is true)\n",
        "    if a > 5 or b < 10:\n",
        "        print(f\"At least one condition is True: a ({a}) > 5 or b ({b}) < 10\")\n",
        "    else:\n",
        "        print(f\"Both conditions are False: a ({a}) <= 5 and b ({b}) >= 10\")\n",
        "\n",
        "    # Demonstrating the 'not' operator (Reverses the condition's boolean value)\n",
        "    if not(a > 5):\n",
        "        print(f\"NOT: a ({a}) is NOT greater than 5\")\n",
        "    else:\n",
        "        print(f\"NOT: a ({a}) is greater than 5\")\n",
        "\n",
        "# Testing the logical operators with different values of a and b\n",
        "print(\"Test case 1: a = 6, b = 3\")\n",
        "logical_operators_demo(6, 3)\n",
        "\n",
        "print(\"\\nTest case 2: a = 4, b = 8\")\n",
        "logical_operators_demo(4, 8)\n",
        "\n",
        "print(\"\\nTest case 3: a = 7, b = 12\")\n",
        "logical_operators_demo(7, 12)\n"
      ],
      "metadata": {
        "id": "wR7ZYRWM5gKK"
      },
      "execution_count": null,
      "outputs": []
    },
    {
      "cell_type": "markdown",
      "source": [
        "9. Write a Python program to convert user input from string to integer, float, and boolean types."
      ],
      "metadata": {
        "id": "I2nOmDdx5hRH"
      }
    },
    {
      "cell_type": "code",
      "source": [
        "def convert_input():\n",
        "    user_input = input(\"Enter a value: \")\n",
        "\n",
        "    try:\n",
        "        # Convert to integer\n",
        "        integer_value = int(user_input)\n",
        "        print(f\"Integer conversion: {integer_value}\")\n",
        "    except ValueError:\n",
        "        print(\"Cannot convert to integer.\")\n",
        "\n",
        "    try:\n",
        "        # Convert to float\n",
        "        float_value = float(user_input)\n",
        "        print(f\"Float conversion: {float_value}\")\n",
        "    except ValueError:\n",
        "        print(\"Cannot convert to float.\")\n",
        "\n",
        "    # Convert to boolean\n",
        "    boolean_value = user_input.lower() in ['true', '1', 'yes']\n",
        "    print(f\"Boolean conversion: {boolean_value}\")\n",
        "\n",
        "# Call the function\n",
        "convert_input()\n"
      ],
      "metadata": {
        "id": "WUKtW0Ox6AGV"
      },
      "execution_count": null,
      "outputs": []
    },
    {
      "cell_type": "markdown",
      "source": [
        "Enter a value: 3.14\n",
        "Cannot convert to integer.\n",
        "Float conversion: 3.14\n",
        "Boolean conversion: True\n",
        "\n",
        "10. Write code to demonstrate type casting with list elements."
      ],
      "metadata": {
        "id": "mZT7C_1N6IcL"
      }
    },
    {
      "cell_type": "code",
      "source": [
        "def type_cast_list_elements():\n",
        "    # Original list with mixed data types (string representations of numbers)\n",
        "    original_list = ['10', '20.5', 'True', '30', 'False']\n",
        "\n",
        "    print(\"Original list:\", original_list)\n",
        "\n",
        "    # Convert all elements to integers (where possible)\n",
        "    int_list = [int(float(item)) if item.replace('.', '', 1).isdigit() else item for item in original_list]\n",
        "    print(\"Converted to integers (if possible):\", int_list)\n",
        "\n",
        "    # Convert all elements to floats\n",
        "    float_list = [float(item) if item.replace('.', '', 1).isdigit() else item for item in original_list]\n",
        "    print(\"Converted to floats:\", float_list)\n",
        "\n",
        "    # Convert all elements to boolean\n",
        "    bool_list = [item.lower() in ['true', '1', 'yes'] if isinstance(item, str) else bool(item) for item in original_list]\n",
        "    print(\"Converted to boolean:\", bool_list)\n",
        "\n",
        "    # Convert all elements to strings\n",
        "    str_list = [str(item) for item in original_list]\n",
        "    print(\"Converted to strings:\", str_list)\n",
        "\n",
        "\n",
        "# Call the function\n",
        "type_cast_list_elements\n"
      ],
      "metadata": {
        "id": "2Ubdk4p06VQi"
      },
      "execution_count": null,
      "outputs": []
    },
    {
      "cell_type": "markdown",
      "source": [
        "11. Write a program that checks if a number is positive, negative, or zero."
      ],
      "metadata": {
        "id": "iCtBZgRO6gkF"
      }
    },
    {
      "cell_type": "code",
      "source": [
        "def check_number():\n",
        "    # Get user input\n",
        "    try:\n",
        "        number = float(input(\"Enter a number: \"))\n",
        "\n",
        "        # Check if the number is positive, negative, or zero\n",
        "        if number > 0:\n",
        "            print(\"The number is positive.\")\n",
        "        elif number < 0:\n",
        "            print(\"The number is negative.\")\n",
        "        else:\n",
        "            print(\"The number is zero.\")\n",
        "\n",
        "    except ValueError:\n",
        "        print(\"Invalid input. Please enter a valid number.\")\n",
        "\n",
        "# Call the function to check the number\n",
        "check_number()\n"
      ],
      "metadata": {
        "id": "ADKKqJXS6nhS"
      },
      "execution_count": null,
      "outputs": []
    },
    {
      "cell_type": "markdown",
      "source": [
        "12. Write a for loop to print numbers from 1 to 10."
      ],
      "metadata": {
        "id": "flOKDJOd6p36"
      }
    },
    {
      "cell_type": "code",
      "source": [
        "# Using a for loop to print numbers from 1 to 10\n",
        "for number in range(1, 11):\n",
        "    print(number)\n"
      ],
      "metadata": {
        "id": "T_WH0Ays6xSz"
      },
      "execution_count": null,
      "outputs": []
    },
    {
      "cell_type": "markdown",
      "source": [
        "13. Write a Python program to find the sum of all even numbers between 1 and 50."
      ],
      "metadata": {
        "id": "FGr-dh_C6yT8"
      }
    },
    {
      "cell_type": "code",
      "source": [
        "def sum_of_even_numbers():\n",
        "    total_sum = 0\n",
        "\n",
        "    # Loop through numbers from 1 to 50\n",
        "    for number in range(1, 51):\n",
        "        if number % 2 == 0:  # Check if the number is even\n",
        "            total_sum += number  # Add the even number to the total sum\n",
        "\n",
        "    print(\"Sum of all even numbers between 1 and 50:\", total_sum)\n",
        "\n",
        "# Call the function\n",
        "sum_of_even_numbers()\n"
      ],
      "metadata": {
        "id": "ValwJQKD66GQ"
      },
      "execution_count": null,
      "outputs": []
    },
    {
      "cell_type": "markdown",
      "source": [
        "14. Write a program to reverse a string using a while loop."
      ],
      "metadata": {
        "id": "eeDLHHDi663w"
      }
    },
    {
      "cell_type": "code",
      "source": [
        "def reverse_string(input_string):\n",
        "    reversed_string = \"\"\n",
        "    index = len(input_string) - 1  # Start from the last character\n",
        "\n",
        "    # Loop through the string in reverse order\n",
        "    while index >= 0:\n",
        "        reversed_string += input_string[index]\n",
        "        index -= 1  # Move to the previous character\n",
        "\n",
        "    return reversed_string\n",
        "\n",
        "# Input string\n",
        "user_input = input(\"Enter a string: \")\n",
        "\n",
        "# Reverse the string and print the result\n",
        "reversed_str = reverse_string(user_input)\n",
        "print(\"Reversed string:\", reversed_str)\n"
      ],
      "metadata": {
        "id": "oCllCWoP7EO1"
      },
      "execution_count": null,
      "outputs": []
    },
    {
      "cell_type": "markdown",
      "source": [
        "15. Write a Python program to calculate the factorial of a number provided by the user using a while loop."
      ],
      "metadata": {
        "id": "TiVEAMQr7FiG"
      }
    },
    {
      "cell_type": "code",
      "source": [
        "def factorial(number):\n",
        "    result = 1\n",
        "\n",
        "    # Check if the number is non-negative\n",
        "    if number < 0:\n",
        "        return \"Factorial is not defined for negative numbers\"\n",
        "\n",
        "    # Calculate factorial using a while loop\n",
        "    while number > 1:\n",
        "        result *= number\n",
        "        number -= 1\n",
        "\n",
        "    return result\n",
        "\n",
        "# Input from user\n",
        "user_input = int(input(\"Enter a number to find its factorial: \"))\n",
        "\n",
        "# Calculate and display the factorial\n",
        "factorial_result = factorial(user_input)\n",
        "print(\"Factorial:\", factorial_result)\n"
      ],
      "metadata": {
        "id": "fIsh37wO7OUp"
      },
      "execution_count": null,
      "outputs": []
    }
  ]
}